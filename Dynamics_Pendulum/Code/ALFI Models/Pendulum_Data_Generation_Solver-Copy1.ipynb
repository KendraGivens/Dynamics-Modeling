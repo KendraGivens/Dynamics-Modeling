{
 "cells": [
  {
   "cell_type": "code",
   "execution_count": 1,
   "id": "ad885121-f1ff-4212-bcaa-6aeb42bb7101",
   "metadata": {},
   "outputs": [],
   "source": [
    "import numpy as np\n",
    "import matplotlib.pyplot as plt\n",
    "import matplotlib.animation as animation\n",
    "import scipy\n",
    "from IPython.display import clear_output \n",
    "import pickle\n",
    "import scipy\n",
    "import cmath\n",
    "import matplotlib.colors as mcolors\n",
    "from tqdm import tqdm"
   ]
  },
  {
   "cell_type": "code",
   "execution_count": 2,
   "id": "4ce2463e-a08a-46bc-9449-feaecee35598",
   "metadata": {
    "jupyter": {
     "source_hidden": true
    }
   },
   "outputs": [],
   "source": [
    "def draw_line(x0, y0, x1, y1, canvas):    \n",
    "    # Round input coordinates to the nearest integers for starting points\n",
    "    x0, y0 = round(x0), round(y0)\n",
    "    x1, y1 = round(x1), round(y1)\n",
    "    \n",
    "    # Calculate the difference between the points\n",
    "    dx = abs(x1 - x0) \n",
    "    dy = abs(y1 - y0)\n",
    "    \n",
    "    # Determine the direction of the line\n",
    "    sx = 1 if x0 < x1 else -1\n",
    "    sy = 1 if y0 < y1 else -1\n",
    "    \n",
    "    # Error term\n",
    "    err = dx - dy\n",
    "    \n",
    "    while True:\n",
    "        # Add the current integer pixel coordinate to the list\n",
    "        canvas[y0, x0] = 1        \n",
    "        # Check if the endpoint is reached\n",
    "        if x0 == x1 and y0 == y1:\n",
    "            break\n",
    "        e2 = 2 * err\n",
    "        if e2 > -dy:\n",
    "            err -= dy\n",
    "            x0 += sx\n",
    "        if e2 < dx:\n",
    "            err += dx\n",
    "            y0 += sy"
   ]
  },
  {
   "cell_type": "code",
   "execution_count": 3,
   "id": "599d281b-7d5f-4363-915f-1add689abdad",
   "metadata": {
    "jupyter": {
     "source_hidden": true
    }
   },
   "outputs": [],
   "source": [
    "def rasterize_frames(xy):\n",
    "        x = xy[0]\n",
    "        y = xy[1]\n",
    "        \n",
    "        # generate array ranging from 0 to resolutions        \n",
    "        sq_x = (np.arange(px) - x)**2\n",
    "        sq_y = (np.arange(py) - y)**2\n",
    "\n",
    "        # add dim to x and y arrays and add to get (batch, vert_res, vert_res)\n",
    "        sq = sq_x[:,None,:] + sq_y[:,:,None]\n",
    "    \n",
    "        # turn pixels on or off depending on if they are less than the radius squared\n",
    "        images = 1 * (sq < radius*radius)\n",
    "\n",
    "        x = list(np.squeeze(x))\n",
    "        y = list(np.squeeze(y))\n",
    "                 \n",
    "        for i in range(len(images)):\n",
    "            draw_line(px/2, 0, x[i], y[i], images[i]) \n",
    "      \n",
    "        return images    "
   ]
  },
  {
   "cell_type": "code",
   "execution_count": 4,
   "id": "f92725e3-f675-49aa-b7b5-ba88ab62d834",
   "metadata": {
    "jupyter": {
     "source_hidden": true
    }
   },
   "outputs": [],
   "source": [
    "def generate_video_frames(x_pos, y_pos):   \n",
    "    video = list(map(rasterize_frames, zip(x_pos, y_pos)))\n",
    "    return np.array(video)"
   ]
  },
  {
   "cell_type": "code",
   "execution_count": 5,
   "id": "e40ab691-0693-49ed-b413-938a3bb9773c",
   "metadata": {},
   "outputs": [],
   "source": [
    "def kernel_sq(X,Y, l=1, var=1):\n",
    "    return var*np.exp(-0.5*(X[:,None]-Y[None,:])**2/(l**2))"
   ]
  },
  {
   "cell_type": "code",
   "execution_count": 6,
   "id": "b5e5c4cb-48f9-48cb-8783-5f1db4b84350",
   "metadata": {},
   "outputs": [],
   "source": [
    "def forward_euler(time, wind, wind_scale, g, l, m, theta0, vel0, dt, damp_coeff):\n",
    "    thetas = []\n",
    "    theta0 = theta0.copy()\n",
    "    vel0 = vel0.copy()\n",
    "    for tstep, i in enumerate(np.arange(0, time, dt)):\n",
    "        a = l*np.cos(theta0)*wind_scale*wind[:, tstep] - damp_coeff*vel0 - (g/l)*np.sin(theta0)\n",
    "        # a =  -damp_coeff*vel0 - (g/l)*np.sin(theta0)\n",
    "        vel0 = vel0 + a*dt\n",
    "        theta0 = theta0 + vel0*dt\n",
    "        thetas.append(theta0)\n",
    "    thetas = np.array(thetas).transpose(1, 0, 2)\n",
    "    return np.array(thetas)"
   ]
  },
  {
   "cell_type": "code",
   "execution_count": 7,
   "id": "a6fd9e23-9128-4612-bc8f-6fbc6927afa8",
   "metadata": {},
   "outputs": [],
   "source": [
    "def theta_to_pos(thetas, px, py):\n",
    "    x = l * np.sin(thetas)*min(px, py)*pad + px/2\n",
    "    y = l * np.cos(thetas)*min(px, py)*pad\n",
    "    return x, y"
   ]
  },
  {
   "cell_type": "code",
   "execution_count": 8,
   "id": "a79047fb-52ed-4cc8-9e6a-62260f5193e7",
   "metadata": {},
   "outputs": [],
   "source": [
    "def sample_wind(batch_size, time, dt, length_scale, variance):\n",
    "    step_size = int(time/dt)\n",
    "    \n",
    "    gp_time = np.linspace(0, time, step_size)\n",
    "    wind = np.zeros((batch_size, step_size, 1))\n",
    "\n",
    "    cov = kernel_sq(gp_time, gp_time, l=length_scale, var=variance)\n",
    "    mean = np.zeros(len(gp_time))\n",
    "        \n",
    "    wind[:,:,0] = np.random.multivariate_normal(mean, cov, batch_size)\n",
    "    return wind"
   ]
  },
  {
   "cell_type": "code",
   "execution_count": 9,
   "id": "64669a8a-de9a-4ce5-90b6-86d6e76396f3",
   "metadata": {},
   "outputs": [],
   "source": [
    "def generate_batch(batch_size, time, dt, length_scale, variance, px, py, wind_scale, g, l, m, theta0s, vel0s, damp_coeff):\n",
    "    # sample wind\n",
    "    wind = sample_wind(batch_size, time, dt, length_scale, variance) \n",
    " \n",
    "    # use ode solver\n",
    "    thetas = forward_euler(time, wind, wind_scale, g, l, m, theta0s, vel0s, dt, damp_coeff)\n",
    "\n",
    "    # subsample thetas\n",
    "    thetas = thetas[:,::subsample_step_size]\n",
    "    \n",
    "    # convert from angles to positions\n",
    "    x, y = theta_to_pos(thetas, px, py)\n",
    "    \n",
    "    # generate video frames\n",
    "    video = generate_video_frames(x, y)\n",
    "\n",
    "    return thetas.astype(np.float64), video.astype(np.float64)"
   ]
  },
  {
   "cell_type": "code",
   "execution_count": 10,
   "id": "0fe31e3f-cd20-48b7-8cff-352c33cb2319",
   "metadata": {
    "jupyter": {
     "source_hidden": true
    }
   },
   "outputs": [],
   "source": [
    "g = 9.8\n",
    "l = 1\n",
    "m = 1\n",
    "\n",
    "damp_coeff = 0.5 \n",
    "nat_freq = np.sqrt(g/l) \n",
    "damp_ratio = damp_coeff/(2*m*nat_freq) \n",
    "\n",
    "theta0 = np.radians(0)\n",
    "vel0 = 0.0\n",
    "\n",
    "subsample_step_size = 10\n",
    "\n",
    "gp_extrap_time = 10\n",
    "gp_norm_time = 6 \n",
    "gp_sparse_time = gp_norm_time/2\n",
    "\n",
    "seed = 0\n",
    "\n",
    "dt = 0.01\n",
    "\n",
    "gp_total_time = 10 \n",
    "gp_trunc_time = 6\n",
    "gp_sparse_time = int(gp_trunc_time // 2)\n",
    " \n",
    "# kernel parmas\n",
    "length_scale = 1\n",
    "variance = 10\n",
    "wind_scale = 1\n",
    "\n",
    "batch_size = 100\n",
    "num_batches = 2\n",
    "\n",
    "# resolution\n",
    "px = 80\n",
    "py = 40\n",
    "fps = 15\n",
    "\n",
    "pad = 0.9 # shrink positions to fit in the frame\n",
    "radius = 3 # size of bob\n",
    "\n",
    "theta0s = np.full((batch_size, 1), theta0)\n",
    "vel0s = np.full((batch_size, 1), vel0)"
   ]
  },
  {
   "cell_type": "code",
   "execution_count": 11,
   "id": "e06b65ee-4cbe-4e7b-bff9-7bf6c33ec464",
   "metadata": {},
   "outputs": [],
   "source": [
    "batches = [] # [(thetas, video), ...]\n",
    "for i in range(num_batches):\n",
    "    batches.append(generate_batch(batch_size, gp_extrap_time, dt, length_scale, variance, px, py, wind_scale, g, l, m, theta0s, vel0s, damp_coeff))  \n",
    "thetas, videos = map(np.concatenate, zip(*batches))"
   ]
  },
  {
   "cell_type": "code",
   "execution_count": 12,
   "id": "fd3d292d-fbdc-4059-a560-f3759f2f1bcf",
   "metadata": {},
   "outputs": [
    {
     "data": {
      "text/plain": [
       "0.1"
      ]
     },
     "execution_count": 12,
     "metadata": {},
     "output_type": "execute_result"
    }
   ],
   "source": [
    "dt*subsample_step_size"
   ]
  },
  {
   "cell_type": "code",
   "execution_count": 66,
   "id": "672b121f-90e4-443d-8eb0-b07baaa551b8",
   "metadata": {
    "jupyter": {
     "source_hidden": true
    }
   },
   "outputs": [],
   "source": [
    "# sparse_step = 2\n",
    "# norm_step = int(gp_norm_time / dt / subsample_step_size)\n",
    "\n",
    "# sparse_thetas = thetas[:, :norm_step:sparse_step]\n",
    "# sparse_videos = videos[:, :norm_step:sparse_step]\n",
    "\n",
    "# norm_thetas = thetas[:, :norm_step]\n",
    "# norm_videos = videos[:, :norm_step] "
   ]
  },
  {
   "cell_type": "code",
   "execution_count": 67,
   "id": "df41157f-3438-4094-b39c-e6a6c634c826",
   "metadata": {},
   "outputs": [],
   "source": [
    "# Create data batches\n",
    "# Sparse_Batches = (sparse_thetas, sparse_videos)\n",
    "# with open(\"../Data/Sparse_Batches.pkl\", \"wb\") as f:\n",
    "#     pickle.dump(Sparse_Batches, f)\n",
    "\n",
    "# Norm_Batches = (norm_thetas, norm_videos)\n",
    "# with open(\"../Data/Norm_Batches.pkl\", \"wb\") as f:\n",
    "#     pickle.dump(Norm_Batches, f)\n",
    " \n",
    "Dataset = (thetas, videos)\n",
    "with open(\"../Data/Dataset.pkl\", \"wb\") as f:\n",
    "    pickle.dump({\n",
    "        \"dt\": dt*subsample_step_size, \n",
    "        \"dataset\": Dataset\n",
    "    }, f) "
   ]
  },
  {
   "cell_type": "code",
   "execution_count": 72,
   "id": "97f81661-e5fe-40d9-bf5d-b696fa52275f",
   "metadata": {},
   "outputs": [
    {
     "data": {
      "text/plain": [
       "0.1"
      ]
     },
     "execution_count": 72,
     "metadata": {},
     "output_type": "execute_result"
    }
   ],
   "source": [
    "dt*subsample_step_size"
   ]
  },
  {
   "cell_type": "code",
   "execution_count": 69,
   "id": "48fab47d-248f-4381-bdcd-ca1f511f27b0",
   "metadata": {},
   "outputs": [
    {
     "data": {
      "image/png": "[encoded data removed]",
      "text/plain": [
       "<Figure size 640x480 with 1 Axes>"
      ]
     },
     "metadata": {},
     "output_type": "display_data"
    }
   ],
   "source": [
    "line_types = ['-', '--', '-.'] \n",
    "# plt.plot(np.arange(0, gp_norm_time, sparse_step*(dt*subsample_step_size)), sparse_thetas[0, :, 0].T, linestyle=line_types[0])\n",
    "# plt.plot(np.arange(0, gp_norm_time, (dt*subsample_step_size)), norm_thetas[0, :, 0].T, linestyle=line_types[1])\n",
    "plt.plot(np.arange(0, gp_extrap_time, (dt*subsample_step_size)), thetas[0, :, 0].T, linestyle=line_types[2])\n",
    "plt.legend(['sparse', 'normal', 'extrapolated'])\n",
    "plt.show()"
   ]
  },
  {
   "cell_type": "code",
   "execution_count": 70,
   "id": "8fd88ea2-c9d2-4eda-84c2-e9da2a1ae469",
   "metadata": {},
   "outputs": [
    {
     "ename": "NameError",
     "evalue": "name 'video' is not defined",
     "output_type": "error",
     "traceback": [
      "\u001b[0;31m---------------------------------------------------------------------------\u001b[0m",
      "\u001b[0;31mNameError\u001b[0m                                 Traceback (most recent call last)",
      "Cell \u001b[0;32mIn[70], line 29\u001b[0m\n\u001b[1;32m     27\u001b[0m video_titles \u001b[38;5;241m=\u001b[39m [\u001b[38;5;124m\"\u001b[39m\u001b[38;5;124mSparse\u001b[39m\u001b[38;5;124m\"\u001b[39m, \u001b[38;5;124m\"\u001b[39m\u001b[38;5;124mNormal\u001b[39m\u001b[38;5;124m\"\u001b[39m, \u001b[38;5;124m\"\u001b[39m\u001b[38;5;124mExtrapolated\u001b[39m\u001b[38;5;124m\"\u001b[39m]\n\u001b[1;32m     28\u001b[0m \u001b[38;5;66;03m# for i in range(len(videos)):\u001b[39;00m\n\u001b[0;32m---> 29\u001b[0m make_heatmap(video, video_titles[\u001b[38;5;241m2\u001b[39m])\n",
      "\u001b[0;31mNameError\u001b[0m: name 'video' is not defined"
     ]
    }
   ],
   "source": [
    "cmap = plt.cm.Blues\n",
    "cmap = cmap(np.linspace(0, 1, cmap.N))\n",
    "cmap[:1, -1] = 0  \n",
    "transparent_cmap = mcolors.ListedColormap(cmap)\n",
    "def make_heatmap(video, video_title):\n",
    "    def heatmap(batch):\n",
    "        video = np.array([t*v for t,v in enumerate(batch, start=1)])\n",
    "        flat_video = np.max(video, 0)\n",
    "        flat_video = 0.5 + flat_video / np.max(flat_video)  \n",
    "        return flat_video\n",
    "        \n",
    "    fig, axs = plt.subplots(4,4)  \n",
    "    for i in range(4):\n",
    "        for j in range(4):\n",
    "            index = i*4+j \n",
    "            if index >= len(video):\n",
    "                break\n",
    "            heat_img = heatmap(video[index,:,:,:])\n",
    "            axs[i,j].imshow(heat_img, cmap=transparent_cmap)\n",
    "            axs[i,j].set_xticks([])\n",
    "            axs[i,j].set_yticks([])\n",
    "        if index >= len(video):\n",
    "            break\n",
    "    fig.suptitle(video_title)\n",
    "    fig.show()\n",
    "    \n",
    "video_titles = [\"Sparse\", \"Normal\", \"Extrapolated\"]\n",
    "# for i in range(len(videos)):\n",
    "make_heatmap(video, video_titles[2])"
   ]
  },
  {
   "cell_type": "code",
   "execution_count": 71,
   "id": "5c91620b-6840-4362-a6d8-9c4d0306c127",
   "metadata": {
    "jupyter": {
     "source_hidden": true
    }
   },
   "outputs": [
    {
     "ename": "NameError",
     "evalue": "name 'sparse_thetas' is not defined",
     "output_type": "error",
     "traceback": [
      "\u001b[0;31m---------------------------------------------------------------------------\u001b[0m",
      "\u001b[0;31mNameError\u001b[0m                                 Traceback (most recent call last)",
      "Cell \u001b[0;32mIn[71], line 30\u001b[0m\n\u001b[1;32m     27\u001b[0m     ani\u001b[38;5;241m.\u001b[39msave(\u001b[38;5;124mf\u001b[39m\u001b[38;5;124m'\u001b[39m\u001b[38;5;124m../Gifs/\u001b[39m\u001b[38;5;132;01m{\u001b[39;00mvideo_title\u001b[38;5;132;01m}\u001b[39;00m\u001b[38;5;124m.gif\u001b[39m\u001b[38;5;124m'\u001b[39m, writer\u001b[38;5;241m=\u001b[39mwritervideo) \n\u001b[1;32m     29\u001b[0m video_titles \u001b[38;5;241m=\u001b[39m [ \u001b[38;5;124m\"\u001b[39m\u001b[38;5;124mSparse_GpOde\u001b[39m\u001b[38;5;124m\"\u001b[39m, \u001b[38;5;124m\"\u001b[39m\u001b[38;5;124mNormalGpOde\u001b[39m\u001b[38;5;124m\"\u001b[39m, \u001b[38;5;124m\"\u001b[39m\u001b[38;5;124mExtrapolatedGpOde\u001b[39m\u001b[38;5;124m\"\u001b[39m]\n\u001b[0;32m---> 30\u001b[0m thetas \u001b[38;5;241m=\u001b[39m [sparse_thetas, norm_thetas, thetas]\n\u001b[1;32m     31\u001b[0m times \u001b[38;5;241m=\u001b[39m [gp_norm_time, gp_norm_time, gp_extrap_time]\n\u001b[1;32m     32\u001b[0m \u001b[38;5;28;01mfor\u001b[39;00m i \u001b[38;5;129;01min\u001b[39;00m \u001b[38;5;28mrange\u001b[39m(\u001b[38;5;28mlen\u001b[39m(thetas)):\n",
      "\u001b[0;31mNameError\u001b[0m: name 'sparse_thetas' is not defined"
     ]
    },
    {
     "data": {
      "image/png": "[encoded data removed]",
      "text/plain": [
       "<Figure size 640x480 with 1 Axes>"
      ]
     },
     "metadata": {},
     "output_type": "display_data"
    }
   ],
   "source": [
    "def get_coords(th):\n",
    "    return l * np.sin(th), -l * np.cos(th) \n",
    "    \n",
    "fig = plt.figure()\n",
    "ax = fig.add_subplot(aspect='equal')\n",
    "x0, y0 = get_coords(theta0)\n",
    "bob_radius = 0.08\n",
    "line, = ax.plot([0, x0], [0, y0], lw=3, c='k')\n",
    "line.set_data([0, x0], [0, y0])\n",
    "circle = ax.add_patch(plt.Circle(get_coords(theta0), bob_radius, fc='black', zorder=3))\n",
    "ax.set_xlim(-l*1.2, l*1.2)\n",
    "ax.set_ylim(-l*1.2, 0)\n",
    "\n",
    "def make_animation(theta, video_title, time, fps):\n",
    "    nframes = time * fps\n",
    "    prog = iter(tqdm(iter(range(nframes+1)), total=nframes))\n",
    "    def animate(i):\n",
    "        next(prog)\n",
    "        x, y = get_coords(theta[int(i/nframes*len(theta))])\n",
    "        line.set_data([0, x], [0, y])\n",
    "        circle.set_center((x, y))\n",
    "     \n",
    "    ani = animation.FuncAnimation(fig, animate, frames=nframes, repeat=True, interval=1000/fps)\n",
    "    plt.ion()\n",
    "    plt.show()\n",
    "    writervideo = animation.PillowWriter(fps=fps) \n",
    "    ani.save(f'../Gifs/{video_title}.gif', writer=writervideo) \n",
    "\n",
    "video_titles = [ \"Sparse_GpOde\", \"NormalGpOde\", \"ExtrapolatedGpOde\"]\n",
    "thetas = [sparse_thetas, norm_thetas, thetas]\n",
    "times = [gp_norm_time, gp_norm_time, gp_extrap_time]\n",
    "for i in range(len(thetas)):\n",
    "    make_animation(thetas[i][0,:,0], video_titles[i], times[i], fps)\n",
    "\n",
    "plt.close()"
   ]
  }
 ],
 "metadata": {
  "kernelspec": {
   "display_name": "Python 3 (ipykernel)",
   "language": "python",
   "name": "python3"
  },
  "language_info": {
   "codemirror_mode": {
    "name": "ipython",
    "version": 3
   },
   "file_extension": ".py",
   "mimetype": "text/x-python",
   "name": "python",
   "nbconvert_exporter": "python",
   "pygments_lexer": "ipython3",
   "version": "3.12.2"
  }
 },
 "nbformat": 4,
 "nbformat_minor": 5
}
