{
 "cells": [
  {
   "cell_type": "code",
   "execution_count": 1,
   "id": "ad885121-f1ff-4212-bcaa-6aeb42bb7101",
   "metadata": {
    "jupyter": {
     "source_hidden": true
    }
   },
   "outputs": [],
   "source": [
    "import numpy as np\n",
    "import matplotlib.pyplot as plt\n",
    "import matplotlib.animation as animation\n",
    "import scipy\n",
    "from IPython.display import clear_output \n",
    "import pickle\n",
    "import scipy\n",
    "import cmath\n",
    "import matplotlib.colors as mcolors\n",
    "from tqdm import tqdm\n",
    "import torch"
   ]
  },
  {
   "cell_type": "code",
   "execution_count": 2,
   "id": "4ce2463e-a08a-46bc-9449-feaecee35598",
   "metadata": {
    "jupyter": {
     "source_hidden": true
    }
   },
   "outputs": [],
   "source": [
    "def draw_line(x0, y0, x1, y1, canvas):    \n",
    "    # Round input coordinates to the nearest integers for starting points\n",
    "    x0, y0 = round(x0), round(y0)\n",
    "    x1, y1 = round(x1), round(y1)\n",
    "    \n",
    "    # Calculate the difference between the points\n",
    "    dx = abs(x1 - x0) \n",
    "    dy = abs(y1 - y0)\n",
    "    \n",
    "    # Determine the direction of the line\n",
    "    sx = 1 if x0 < x1 else -1\n",
    "    sy = 1 if y0 < y1 else -1\n",
    "    \n",
    "    # Error term\n",
    "    err = dx - dy\n",
    "    \n",
    "    while True:\n",
    "        # Add the current integer pixel coordinate to the list\n",
    "        canvas[y0, x0] = 1        \n",
    "        # Check if the endpoint is reached\n",
    "        if x0 == x1 and y0 == y1:\n",
    "            break\n",
    "        e2 = 2 * err\n",
    "        if e2 > -dy:\n",
    "            err -= dy\n",
    "            x0 += sx\n",
    "        if e2 < dx:\n",
    "            err += dx\n",
    "            y0 += sy"
   ]
  },
  {
   "cell_type": "code",
   "execution_count": 3,
   "id": "599d281b-7d5f-4363-915f-1add689abdad",
   "metadata": {
    "jupyter": {
     "source_hidden": true
    }
   },
   "outputs": [],
   "source": [
    "def rasterize_frames(xy):\n",
    "        x = xy[0]\n",
    "        y = xy[1]\n",
    "        \n",
    "        # generate array ranging from 0 to resolutions        \n",
    "        sq_x = (np.arange(px) - x)**2\n",
    "        sq_y = (np.arange(py) - y)**2\n",
    "\n",
    "        # add dim to x and y arrays and add to get (batch, vert_res, vert_res)\n",
    "        sq = sq_x[:,None,:] + sq_y[:,:,None]\n",
    "    \n",
    "        # turn pixels on or off depending on if they are less than the radius squared\n",
    "        images = 1 * (sq < radius*radius)\n",
    "\n",
    "        x = list(np.squeeze(x))\n",
    "        y = list(np.squeeze(y))\n",
    "                 \n",
    "        for i in range(len(images)):\n",
    "            draw_line(px/2, 0, x[i], y[i], images[i]) \n",
    "      \n",
    "        return images    "
   ]
  },
  {
   "cell_type": "code",
   "execution_count": 4,
   "id": "f92725e3-f675-49aa-b7b5-ba88ab62d834",
   "metadata": {},
   "outputs": [],
   "source": [
    "def generate_video_frames(x_pos, y_pos):   \n",
    "    video = list(map(rasterize_frames, zip(x_pos, y_pos)))\n",
    "    return np.array(video)"
   ]
  },
  {
   "cell_type": "code",
   "execution_count": null,
   "id": "8bdc2156-0143-4391-b2ac-c978e21f558e",
   "metadata": {},
   "outputs": [],
   "source": [
    "def kernel_ode_torch(X, Y, l=1, freq=0.6, damping=0.05):\n",
    "    def time_shift():\n",
    "        pass\n",
    "    def greens_function():\n",
    "        pass\n",
    "    def damped_response():\n",
    "        pass\n",
    "\n"
   ]
  },
  {
   "cell_type": "code",
   "execution_count": 5,
   "id": "e40ab691-0693-49ed-b413-938a3bb9773c",
   "metadata": {},
   "outputs": [],
   "source": [
    "def kernel_ode(X,Y,l=1,freq=0.6,damping=0.05):\n",
    "    def hfcn(l,gamma_q,gamma_p,t,tp):\n",
    "        out=(gfcn(l,gamma_q,tp,t)-cmath.exp(-gamma_p*t)*gfcn(l,gamma_q,tp,0))/(gamma_q+gamma_p)\n",
    "        return out\n",
    "\n",
    "    def gfcn(l,gamma_q,t,tp):\n",
    "        out=2*cmath.exp(l**2*gamma_q**2/4)*cmath.exp(-gamma_q*(t-tp))-cmath.exp(-(t-tp)**2/l**2)*scipy.special.wofz(1j*zfcn(l,t,tp,gamma_q))-cmath.exp(-tp**2/l**2)*cmath.exp(-gamma_q*t)*scipy.special.wofz(-1j*zfcn(l,0,tp,gamma_q))\n",
    "        return out\n",
    "\n",
    "    def zfcn(l,t,tp,gamma_q):\n",
    "        out=(t-tp)/l-(l*gamma_q)/2\n",
    "        return out\n",
    "    \n",
    "    d_ode=freq**2\n",
    "    c_ode=2*damping*freq\n",
    "    alpha=c_ode/2\n",
    "    w=np.sqrt(4*d_ode-c_ode**2)/2\n",
    "    \n",
    "    length_X=np.size(X) \n",
    "    length_Y=np.size(Y)\n",
    "    \n",
    "    Sigma=np.zeros([length_X, length_Y])\n",
    "\n",
    "    for i in range(length_X):\n",
    "        for k in range(length_Y):\n",
    "            t=X[i]\n",
    "            tp=Y[k]\n",
    "            gamma=alpha+1j*w\n",
    "            gamma_t=alpha-1j*w\n",
    "            Sigma[i,k]=(np.sqrt(np.pi*l**2)/8/w**2*(hfcn(l,gamma_t,gamma,t,tp)+hfcn(l,gamma,gamma_t,tp,t)+hfcn(l,gamma,gamma_t,t,tp)+hfcn(l,gamma_t,gamma,tp,t)-hfcn(l,gamma_t,gamma_t,t,tp)-hfcn(l,gamma_t,gamma_t,tp,t)-hfcn(l,gamma,gamma,t,tp)-hfcn(l,gamma,gamma,tp,t))).real \n",
    "    return Sigma"
   ]
  },
  {
   "cell_type": "code",
   "execution_count": 7,
   "id": "a6fd9e23-9128-4612-bc8f-6fbc6927afa8",
   "metadata": {
    "jupyter": {
     "source_hidden": true
    }
   },
   "outputs": [],
   "source": [
    "def theta_to_pos(thetas, px, py):\n",
    "    x = l * np.sin(thetas)*min(px, py)*pad + px/2\n",
    "    y = l * np.cos(thetas)*min(px, py)*pad\n",
    "    return x, y"
   ]
  },
  {
   "cell_type": "code",
   "execution_count": 8,
   "id": "a79047fb-52ed-4cc8-9e6a-62260f5193e7",
   "metadata": {
    "jupyter": {
     "source_hidden": true
    }
   },
   "outputs": [],
   "source": [
    "def sample_thetas(batch_size, time, dt, length_scale, variance, nat_freq, damp_ratio):\n",
    "    step_size = int(time/dt)\n",
    "    \n",
    "    gp_time = np.linspace(0, time, step_size)\n",
    "    thetas = np.zeros((batch_size, step_size, 1))\n",
    "\n",
    "    cov = kernel_ode(gp_time, gp_time, l=length_scale, freq=nat_freq, damping=damp_ratio)\n",
    "    mean = np.zeros(len(gp_time))\n",
    "        \n",
    "    thetas[:,:,0] = np.random.multivariate_normal(mean, cov, batch_size)\n",
    "\n",
    "    return thetas"
   ]
  },
  {
   "cell_type": "code",
   "execution_count": 31,
   "id": "64669a8a-de9a-4ce5-90b6-86d6e76396f3",
   "metadata": {},
   "outputs": [],
   "source": [
    "def generate_batch(batch_size, time, dt, length_scale, variance, px, py, wind_scale, g, l, m, theta0s, vel0s, nat_freq, damp_ratio):\n",
    "    # sample thetas\n",
    "    thetas = sample_thetas(batch_size, time, dt, length_scale, variance, nat_freq, damp_ratio) \n",
    "    \n",
    "    # subsample thetas\n",
    "    thetas = thetas[:,::subsample_step_size]\n",
    "    \n",
    "    # convert from angles to positions\n",
    "    x, y = theta_to_pos(thetas, px, py)\n",
    "    \n",
    "    # generate video frames\n",
    "    video = generate_video_frames(x, y)\n",
    "\n",
    "    return thetas.astype(np.float64), video.astype(np.float64)"
   ]
  },
  {
   "cell_type": "code",
   "execution_count": 14,
   "id": "0fe31e3f-cd20-48b7-8cff-352c33cb2319",
   "metadata": {},
   "outputs": [],
   "source": [
    "g = 9.8\n",
    "l = 1\n",
    "m = 1\n",
    "\n",
    "damp_coeff = 0.5 \n",
    "nat_freq = np.sqrt(g/l) \n",
    "damp_ratio = damp_coeff/(2*m*nat_freq) \n",
    "\n",
    "theta0 = np.radians(60)\n",
    "vel0 = 0.0\n",
    "subsample_step_size = 10\n",
    "\n",
    "gp_extrap_time = 10\n",
    "gp_norm_time = 6 \n",
    "gp_sparse_time = gp_norm_time/2\n",
    "\n",
    "seed = 0\n",
    "\n",
    "dt = 0.01\n",
    "\n",
    "gp_total_time = 10 \n",
    "gp_trunc_time = 6\n",
    "gp_sparse_time = int(gp_trunc_time // 2)\n",
    " \n",
    "# kernel parmas\n",
    "length_scale = 1\n",
    "variance = 10\n",
    "wind_scale = 1\n",
    "\n",
    "batch_size = 1\n",
    "num_batches = 1\n",
    "\n",
    "# resolution\n",
    "px = 80\n",
    "py = 40\n",
    "fps = 15\n",
    "\n",
    "pad = 0.9 # shrink positions to fit in the frame\n",
    "radius = 3 # size of bob\n",
    "\n",
    "theta0s = np.full((batch_size, 1), theta0)\n",
    "vel0s = np.full((batch_size, 1), vel0)"
   ]
  },
  {
   "cell_type": "code",
   "execution_count": 15,
   "id": "9c8564f7-9b2d-4e07-bede-b98866880425",
   "metadata": {},
   "outputs": [],
   "source": [
    "thetas = sample_thetas(batch_size, gp_extrap_time, dt, length_scale, variance, nat_freq, damp_ratio)\n",
    "thetas = thetas[:,::subsample_step_size]"
   ]
  },
  {
   "cell_type": "code",
   "execution_count": 20,
   "id": "876235ce-6e42-4c8d-932f-634e22e4bf70",
   "metadata": {},
   "outputs": [
    {
     "data": {
      "text/plain": [
       "[<matplotlib.lines.Line2D at 0x7382f7af0d70>]"
      ]
     },
     "execution_count": 20,
     "metadata": {},
     "output_type": "execute_result"
    },
    {
     "data": {
      "image/png": "[encoded data removed]",
      "text/plain": [
       "<Figure size 640x480 with 1 Axes>"
      ]
     },
     "metadata": {},
     "output_type": "display_data"
    }
   ],
   "source": [
    "plt.plot(thetas[0])"
   ]
  },
  {
   "cell_type": "code",
   "execution_count": 34,
   "id": "e06b65ee-4cbe-4e7b-bff9-7bf6c33ec464",
   "metadata": {
    "jupyter": {
     "source_hidden": true
    }
   },
   "outputs": [],
   "source": [
    "batches = [] # [(thetas, video), ...]\n",
    "for i in range(num_batches):\n",
    "    batches.append(generate_batch(batch_size, gp_extrap_time, dt, length_scale, variance, px, py, wind_scale, g, l, m, theta0s, vel0s, nat_freq, damp_ratio))  \n",
    "thetas, videos = map(np.concatenate, zip(*batches))"
   ]
  },
  {
   "cell_type": "code",
   "execution_count": 35,
   "id": "672b121f-90e4-443d-8eb0-b07baaa551b8",
   "metadata": {
    "jupyter": {
     "source_hidden": true
    }
   },
   "outputs": [],
   "source": [
    "# sparse_step = 2\n",
    "# norm_step = int(gp_norm_time / dt / subsample_step_size)\n",
    "\n",
    "# sparse_thetas = thetas[:, :norm_step:sparse_step]\n",
    "# sparse_videos = videos[:, :norm_step:sparse_step]\n",
    "\n",
    "# norm_thetas = thetas[:, :norm_step]\n",
    "# norm_videos = videos[:, :norm_step] "
   ]
  },
  {
   "cell_type": "code",
   "execution_count": 36,
   "id": "df41157f-3438-4094-b39c-e6a6c634c826",
   "metadata": {
    "jupyter": {
     "source_hidden": true
    }
   },
   "outputs": [],
   "source": [
    "# Create data batches\n",
    "# Sparse_Batches = (sparse_thetas, sparse_videos)\n",
    "# with open(\"../Data/Sparse_Batches.pkl\", \"wb\") as f:\n",
    "#     pickle.dump(Sparse_Batches, f)\n",
    "\n",
    "# Norm_Batches = (norm_thetas, norm_videos)\n",
    "# with open(\"../Data/Norm_Batches.pkl\", \"wb\") as f:\n",
    "#     pickle.dump(Norm_Batches, f)\n",
    " \n",
    "Dataset = (thetas, videos)\n",
    "# with open(\"../Data/Dataset.pkl\", \"wb\") as f:\n",
    "#     pickle.dump({\n",
    "#         \"dt\": dt*subsample_step_size, \n",
    "#         \"dataset\": Dataset\n",
    "#     }, f) "
   ]
  },
  {
   "cell_type": "code",
   "execution_count": 37,
   "id": "48fab47d-248f-4381-bdcd-ca1f511f27b0",
   "metadata": {
    "collapsed": true,
    "jupyter": {
     "outputs_hidden": true,
     "source_hidden": true
    }
   },
   "outputs": [
    {
     "data": {
      "image/png": "[encoded data removed]",
      "text/plain": [
       "<Figure size 640x480 with 1 Axes>"
      ]
     },
     "metadata": {},
     "output_type": "display_data"
    }
   ],
   "source": [
    "line_types = ['-', '--', '-.'] \n",
    "# plt.plot(np.arange(0, gp_norm_time, sparse_step*(dt*subsample_step_size)), sparse_thetas[0, :, 0].T, linestyle=line_types[0])\n",
    "# plt.plot(np.arange(0, gp_norm_time, (dt*subsample_step_size)), norm_thetas[0, :, 0].T, linestyle=line_types[1])\n",
    "plt.plot(np.arange(0, gp_extrap_time, (dt*subsample_step_size)), thetas[0, :, 0].T, linestyle=line_types[2])\n",
    "plt.legend(['sparse', 'normal', 'extrapolated'])\n",
    "plt.show()"
   ]
  },
  {
   "cell_type": "code",
   "execution_count": null,
   "id": "8fd88ea2-c9d2-4eda-84c2-e9da2a1ae469",
   "metadata": {
    "jupyter": {
     "source_hidden": true
    }
   },
   "outputs": [],
   "source": [
    "cmap = plt.cm.Blues\n",
    "cmap = cmap(np.linspace(0, 1, cmap.N))\n",
    "cmap[:1, -1] = 0  \n",
    "transparent_cmap = mcolors.ListedColormap(cmap)\n",
    "def make_heatmap(video, video_title):\n",
    "    def heatmap(batch):\n",
    "        video = np.array([t*v for t,v in enumerate(batch, start=1)])\n",
    "        flat_video = np.max(video, 0)\n",
    "        flat_video = 0.5 + flat_video / np.max(flat_video)  \n",
    "        return flat_video\n",
    "        \n",
    "    fig, axs = plt.subplots(4,4)  \n",
    "    for i in range(4):\n",
    "        for j in range(4):\n",
    "            index = i*4+j \n",
    "            if index >= len(video):\n",
    "                break\n",
    "            heat_img = heatmap(video[index,:,:,:])\n",
    "            axs[i,j].imshow(heat_img, cmap=transparent_cmap)\n",
    "            axs[i,j].set_xticks([])\n",
    "            axs[i,j].set_yticks([])\n",
    "        if index >= len(video):\n",
    "            break\n",
    "    fig.suptitle(video_title)\n",
    "    fig.show()\n",
    "    \n",
    "video_titles = [\"Sparse\", \"Normal\", \"Extrapolated_Kernel\"]\n",
    "# for i in range(len(videos)):\n",
    "make_heatmap(video, video_titles[2])"
   ]
  },
  {
   "cell_type": "code",
   "execution_count": null,
   "id": "5c91620b-6840-4362-a6d8-9c4d0306c127",
   "metadata": {
    "jupyter": {
     "source_hidden": true
    }
   },
   "outputs": [],
   "source": [
    "def get_coords(th):\n",
    "    return l * np.sin(th), -l * np.cos(th) \n",
    "    \n",
    "fig = plt.figure()\n",
    "ax = fig.add_subplot(aspect='equal')\n",
    "x0, y0 = get_coords(theta0)\n",
    "bob_radius = 0.08\n",
    "line, = ax.plot([0, x0], [0, y0], lw=3, c='k')\n",
    "line.set_data([0, x0], [0, y0])\n",
    "circle = ax.add_patch(plt.Circle(get_coords(theta0), bob_radius, fc='black', zorder=3))\n",
    "ax.set_xlim(-l*1.2, l*1.2)\n",
    "ax.set_ylim(-l*1.2, 0)\n",
    "\n",
    "def make_animation(theta, video_title, time, fps):\n",
    "    nframes = time * fps\n",
    "    prog = iter(tqdm(iter(range(nframes+1)), total=nframes))\n",
    "    def animate(i):\n",
    "        next(prog)\n",
    "        x, y = get_coords(theta[int(i/nframes*len(theta))])\n",
    "        line.set_data([0, x], [0, y])\n",
    "        circle.set_center((x, y))\n",
    "     \n",
    "    ani = animation.FuncAnimation(fig, animate, frames=nframes, repeat=True, interval=1000/fps)\n",
    "    plt.ion()\n",
    "    plt.show()\n",
    "    writervideo = animation.PillowWriter(fps=fps) \n",
    "    ani.save(f'../Gifs/{video_title}.gif', writer=writervideo) \n",
    "\n",
    "video_titles = [ \"Sparse_GpOde\", \"NormalGpOde\", \"ExtrapolatedGpOde\"]\n",
    "thetas = [sparse_thetas, norm_thetas, thetas]\n",
    "times = [gp_norm_time, gp_norm_time, gp_extrap_time]\n",
    "for i in range(len(thetas)):\n",
    "    make_animation(thetas[i][0,:,0], video_titles[i], times[i], fps)\n",
    "\n",
    "plt.close()"
   ]
  }
 ],
 "metadata": {
  "kernelspec": {
   "display_name": "Python 3 (ipykernel)",
   "language": "python",
   "name": "python3"
  },
  "language_info": {
   "codemirror_mode": {
    "name": "ipython",
    "version": 3
   },
   "file_extension": ".py",
   "mimetype": "text/x-python",
   "name": "python",
   "nbconvert_exporter": "python",
   "pygments_lexer": "ipython3",
   "version": "3.12.2"
  }
 },
 "nbformat": 4,
 "nbformat_minor": 5
}
